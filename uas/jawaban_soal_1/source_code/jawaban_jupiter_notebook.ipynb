{
 "cells": [
  {
   "cell_type": "markdown",
   "metadata": {},
   "source": [
    "# Code untuk Function dan Rekrusif"
   ]
  },
  {
   "cell_type": "code",
   "execution_count": 1,
   "metadata": {},
   "outputs": [
    {
     "name": "stdout",
     "output_type": "stream",
     "text": [
      "120\n"
     ]
    }
   ],
   "source": [
    "def faktorial(n):\n",
    "    if n == 1:  # Base case\n",
    "        return 1\n",
    "    else:\n",
    "        return n * faktorial(n - 1)  # Rekurens\n",
    "\n",
    "# Contoh penggunaan\n",
    "print(faktorial(5))  # Output: 120\n"
   ]
  },
  {
   "cell_type": "markdown",
   "metadata": {},
   "source": [
    "### Kode\n",
    "```python\n",
    "def faktorial(n):\n",
    "    if n == 1:  # Base case\n",
    "        return 1\n",
    "    else:\n",
    "        return n * faktorial(n - 1)  # Rekurens\n",
    "\n",
    "# Contoh penggunaan\n",
    "print(faktorial(5))  # Output: 120\n",
    "```\n",
    "\n",
    "### Penjelasan\n",
    "\n",
    "1. **Definisi Fungsi**:\n",
    "    ```python\n",
    "    def faktorial(n):\n",
    "    ```\n",
    "    Ini adalah definisi dari fungsi `faktorial` yang menerima satu parameter `n`.\n",
    "\n",
    "2. **Base Case**:\n",
    "    ```python\n",
    "    if n == 1:  # Base case\n",
    "        return 1\n",
    "    ```\n",
    "    Bagian ini memeriksa apakah nilai `n` sama dengan 1. Jika iya, fungsi mengembalikan nilai 1. Base case adalah kondisi berhenti dari fungsi rekursif yang mencegah terjadinya loop tak terbatas. Pada kasus faktorial, faktorial dari 1 adalah 1, yang menjadi dasar untuk perhitungan faktorial bilangan lainnya.\n",
    "\n",
    "3. **Rekurens**:\n",
    "    ```python\n",
    "    else:\n",
    "        return n * faktorial(n - 1)  # Rekurens\n",
    "    ```\n",
    "    Jika `n` tidak sama dengan 1, fungsi memanggil dirinya sendiri dengan parameter `n-1`. Hasil dari pemanggilan fungsi `faktorial(n - 1)` kemudian dikalikan dengan `n` dan hasilnya dikembalikan. Ini adalah inti dari rekursi, di mana fungsi memecah masalah menjadi bagian yang lebih kecil (dalam hal ini `n-1`) dan memecahnya secara rekursif hingga mencapai base case.\n",
    "\n",
    "4. **Contoh Penggunaan**:\n",
    "    ```python\n",
    "    print(faktorial(5))  # Output: 120\n",
    "    ```\n",
    "    Bagian ini memanggil fungsi `faktorial` dengan argumen 5 dan mencetak hasilnya. Mari kita lihat bagaimana fungsi ini bekerja secara rekursif:\n",
    "\n",
    "### Proses Eksekusi\n",
    "1. `faktorial(5)` dipanggil.\n",
    "    - `n` bukan 1, jadi lanjut ke rekurens: `5 * faktorial(4)`.\n",
    "2. `faktorial(4)` dipanggil.\n",
    "    - `n` bukan 1, jadi lanjut ke rekurens: `4 * faktorial(3)`.\n",
    "3. `faktorial(3)` dipanggil.\n",
    "    - `n` bukan 1, jadi lanjut ke rekurens: `3 * faktorial(2)`.\n",
    "4. `faktorial(2)` dipanggil.\n",
    "    - `n` bukan 1, jadi lanjut ke rekurens: `2 * faktorial(1)`.\n",
    "5. `faktorial(1)` dipanggil.\n",
    "    - `n` adalah 1, jadi mengembalikan 1 (base case).\n",
    "6. `faktorial(2)` mengembalikan `2 * 1 = 2`.\n",
    "7. `faktorial(3)` mengembalikan `3 * 2 = 6`.\n",
    "8. `faktorial(4)` mengembalikan `4 * 6 = 24`.\n",
    "9. `faktorial(5)` mengembalikan `5 * 24 = 120`.\n",
    "\n",
    "### Hasil Akhir\n",
    "Nilai yang dihasilkan dari `faktorial(5)` adalah 120, yang dicetak oleh fungsi `print`.\n",
    "\n",
    "Jadi, fungsi rekursif ini bekerja dengan cara memanggil dirinya sendiri berulang kali dengan nilai yang lebih kecil, hingga mencapai base case, kemudian mengalikan hasil-hasil tersebut dalam urutan terbalik untuk mendapatkan hasil akhir."
   ]
  }
 ],
 "metadata": {
  "kernelspec": {
   "display_name": "Python 3",
   "language": "python",
   "name": "python3"
  },
  "language_info": {
   "codemirror_mode": {
    "name": "ipython",
    "version": 3
   },
   "file_extension": ".py",
   "mimetype": "text/x-python",
   "name": "python",
   "nbconvert_exporter": "python",
   "pygments_lexer": "ipython3",
   "version": "3.10.12"
  }
 },
 "nbformat": 4,
 "nbformat_minor": 2
}
